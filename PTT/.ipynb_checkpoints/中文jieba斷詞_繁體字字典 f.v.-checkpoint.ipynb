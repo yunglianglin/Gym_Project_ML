{
 "cells": [
  {
   "cell_type": "code",
   "execution_count": 1,
   "metadata": {},
   "outputs": [],
   "source": [
    "import pandas as pd\n",
    "#把語料讀出來\n",
    "df_test = pd.read_csv('./ppt_clean_articles.csv', encoding='utf-8')"
   ]
  },
  {
   "cell_type": "code",
   "execution_count": 2,
   "metadata": {},
   "outputs": [],
   "source": [
    "tests = df_test.loc[273:275, 'article']"
   ]
  },
  {
   "cell_type": "code",
   "execution_count": null,
   "metadata": {},
   "outputs": [],
   "source": [
    "for test in tests:\n",
    "    print(test)"
   ]
  },
  {
   "cell_type": "code",
   "execution_count": null,
   "metadata": {},
   "outputs": [],
   "source": [
    "jieba.load_userdict('./dicts/my_dict.txt')\n",
    "jieba.load_userdict('./dicts/neg_word.txt')\n",
    "jieba.load_userdict('./dicts/pos_word.txt')\n",
    "jieba.load_userdict('./dicts/stopword_cn.txt')\n",
    "jieba.load_userdict('./dicts/EduMin.txt')\n",
    "jieba.load_userdict('./dicts/idioms.txt')"
   ]
  },
  {
   "cell_type": "markdown",
   "metadata": {},
   "source": [
    "# 使用簡體字預設字典去斷詞"
   ]
  },
  {
   "cell_type": "code",
   "execution_count": 3,
   "metadata": {},
   "outputs": [
    {
     "name": "stderr",
     "output_type": "stream",
     "text": [
      "Building prefix dict from the default dictionary ...\n",
      "Loading model from cache C:\\Users\\Java\\AppData\\Local\\Temp\\jieba.cache\n",
      "Loading model cost 0.627 seconds.\n",
      "Prefix dict has been built succesfully.\n"
     ]
    },
    {
     "data": {
      "text/plain": [
       "['我 /  七月 /  要 /  搬 /  到 /  台北 /  臺 /  大 /  醫學院 /  附近 /  會 /  是 /  我 /  比 /  較長 /  活動 /  的 /  地區 /  因為 /  我 /  有 /  運動 /  的 /  習慣 /  不 /  希望 /  間 /  段 /  但是 /  台北 /  的 /  健身房 /  我實 /  在 /  不熟 /  想 /  請 /  大家 /  推薦 /  一下 /  我 /  喜歡 /  的 /  課有 /  槓鈴戰鬥 /  有氧 /  還有 /  我 /  希望 /  可以 /  用到 /  跑步 /  機原則 /  上 /  我 /  會 /  在 /  台北 /  待 /  一年 /  所以 /  希望 /  不要 /  是 /  簽約 /  超過 /  一年 /  的 /  健身房 /  希望 /  大家 /  可以 /  推薦 /  一下 /  有 /  這些 /  課程 /  的 /  健身房 /  謝謝',\n",
       " '拳擊 /  好像 /  比較 /  少 /  訓練 /  到 /  大腿 /  的 /  大部份 /  都 /  是 /  拳拳 /  拳 /  跟 /  心肺 /  的 /  鍛 /  鍊 /  誠 /  心地 /  建議 /  你 /  好好 /  地 /  跟 /  BLANCE /  還有 /  瑜珈 /  對 /  你 /  的 /  有氧 /  生涯 /  奠定 /  良好 /  的 /  基礎 /  如果 /  你 /  可以 /  好好 /  地 /  控制 /  大腿 /  肌肉 /  讓 /  膝蓋 /  保持 /  微彎其 /  實階梯 /  有氧 /  可以 /  有效 /  地 /  鍛 /  鍊 /  到 /  大腿 /  如果 /  怕轉 /  的 /  動作 /  太多 /  可以 /  先 /  從 /  入門 /  開始 /  最 /  後 /  我 /  要 /  拿 /  TINA /  老師 /  來當 /  例子 /  說明 /  TINA /  老師 /  教階梯 /  教到 /  屁股 /  非常 /  小可 /  見 /  鍛 /  鍊 /  的 /  效果 /  有 /  多 /  好 /  啊 /  TINA /  老師 /  這 /  是 /  讚 /  美 /  唷 /  如 /  題 /  是 /  拳 /  擊 /  有氧 /  嗎 /  謝謝 /  回答 /  TELNETPTTCC /  板名 /  CHINESEMED /  醫學中 /  醫藥 /  學術 /  討論 /  板分 /  組討論 /  區國家 /  研究院 /  科學學術 /  研究院 /  中醫藥 /  學術 /  討論板 /  CHINESEMED /  也 /  可以 /  直接 /  到 /  我 /  的 /  最愛按 /  Y /  叫出 /  全部 /  看板 /  再 /  按 /  小 /  寫 /  S /  輸入 /  CHINESEMED /  然後再 /  按 /  M /  加入 /  我 /  的 /  最 /  愛 /  Y',\n",
       " '請 /  教版上 /  先進 /  有人 /  跳過 /  非洲 /  舞 /  嗎 /  最近 /  才 /  聽 /  說過 /  聽 /  說 /  很 /  累 /  請 /  問跳過 /  的 /  人 /  它 /  有 /  比 /  BODYCOMBAT /  累 /  嗎 /  有趣 /  嗎 /  謝謝 /  您 /  的 /  回答 /  非洲 /  舞超 /  超超 /  有趣 /  B /  其實 /  在 /  BODYJAM /  裡有 /  時 /  就 /  會 /  夾雜 /  非洲 /  舞 /  大概 /  看到 /  拼命 /  甩頭 /  手部 /  動作 /  很大 /  跳起 /  來 /  汗 /  會 /  甩 /  到 /  別人 /  臉 /  上 /  的 /  呃 /  大概 /  就是 /  非洲 /  舞 /  了 /  P /  跟 /  COMBAT /  比起 /  來 /  我 /  自己 /  的 /  感覺 /  是 /  非洲 /  舞 /  更累 /  尤其 /  是 /  運動 /  到 /  很少 /  運動 /  的 /  頸部 /  如果 /  一 /  整堂 /  都 /  上 /  非洲 /  隔天 /  那個 /  酸痛 /  哪 /  阿娘 /  喂 /  記得 /  數個 /  月 /  之前 /  在 /  加州 /  的 /  課表有 /  看過 /  這課 /  不過 /  應該 /  是 /  特別 /  活動 /  才 /  有 /  的 /  之 /  後 /  就 /  再也 /  不 /  見 /  蹤 /  跡 /  了 /  橘子 /  的 /  分解 /  過程 /  HTTPWWWWRETCHCCBLOGSUNKIST']"
      ]
     },
     "execution_count": 3,
     "metadata": {},
     "output_type": "execute_result"
    }
   ],
   "source": [
    "#使用預設字典\n",
    "import jieba\n",
    "new_corpus = []\n",
    "for test in tests:\n",
    "    try:\n",
    "        words = jieba.lcut(test, cut_all=False)\n",
    "        new_corpus.append(' /  '.join(words))\n",
    "    except Exception as e:\n",
    "        print (e.__doc__) \n",
    "new_corpus"
   ]
  },
  {
   "cell_type": "code",
   "execution_count": 4,
   "metadata": {},
   "outputs": [
    {
     "name": "stderr",
     "output_type": "stream",
     "text": [
      "Building prefix dict from C:\\Users\\Java\\Desktop\\iii_project\\textmining\\dicts\\dict.txt.big ...\n",
      "Loading model from cache C:\\Users\\Java\\AppData\\Local\\Temp\\jieba.ub84c619647761bfd801d02144fa85f89.cache\n",
      "Loading model cost 0.503 seconds.\n",
      "Prefix dict has been built succesfully.\n"
     ]
    },
    {
     "data": {
      "text/plain": [
       "['我 /  七月 /  要 /  搬到 /  台北 /  臺大 /  醫學院 /  附近 /  會 /  是 /  我 /  比較 /  長 /  活動 /  的 /  地區 /  因為 /  我 /  有 /  運動 /  的 /  習慣 /  不 /  希望 /  間 /  段 /  但是 /  台北 /  的 /  健身房 /  我 /  實在 /  不熟 /  想 /  請 /  大家 /  推薦 /  一下 /  我 /  喜歡 /  的 /  課有 /  槓鈴 /  戰鬥 /  有氧 /  還有 /  我 /  希望 /  可以 /  用到 /  跑步機 /  原則 /  上 /  我 /  會 /  在 /  台北 /  待 /  一年 /  所以 /  希望 /  不要 /  是 /  簽約 /  超過 /  一年 /  的 /  健身房 /  希望 /  大家 /  可以 /  推薦 /  一下 /  有 /  這些 /  課程 /  的 /  健身房 /  謝謝',\n",
       " '拳擊 /  好像 /  比較 /  少 /  訓練 /  到 /  大腿 /  的 /  大部份 /  都 /  是 /  拳拳 /  拳 /  跟 /  心肺 /  的 /  鍛鍊 /  誠心 /  地 /  建議 /  你 /  好好 /  地 /  跟 /  BLANCE /  還有 /  瑜珈 /  對 /  你 /  的 /  有氧 /  生涯 /  奠定 /  良好 /  的 /  基礎 /  如果 /  你 /  可以 /  好好 /  地 /  控制 /  大腿 /  肌肉 /  讓 /  膝蓋 /  保持 /  微彎 /  其實 /  階梯 /  有氧 /  可以 /  有效 /  地 /  鍛鍊到 /  大腿 /  如果 /  怕轉 /  的 /  動作 /  太多 /  可以 /  先 /  從 /  入門 /  開始 /  最後 /  我要 /  拿 /  TINA /  老師 /  來當 /  例子 /  說明 /  TINA /  老師 /  教 /  階梯 /  教到 /  屁股 /  非常 /  小 /  可見 /  鍛鍊 /  的 /  效果 /  有 /  多 /  好 /  啊 /  TINA /  老師 /  這是 /  讚美 /  唷 /  如題 /  是 /  拳擊 /  有氧 /  嗎 /  謝謝 /  回答 /  TELNETPTTCC /  板名 /  CHINESEMED /  醫學 /  中醫藥 /  學術 /  討論 /  板 /  分組 /  討論區 /  國家 /  研究院 /  科學 /  學術 /  研究院 /  中醫藥 /  學術 /  討論 /  板 /  CHINESEMED /  也 /  可以 /  直接 /  到 /  我 /  的 /  最愛 /  按 /  Y /  叫出 /  全部 /  看板 /  再 /  按 /  小寫 /  S /  輸入 /  CHINESEMED /  然後 /  再 /  按 /  M /  加入 /  我 /  的 /  最愛 /  Y',\n",
       " '請教 /  版上 /  先進 /  有 /  人 /  跳過 /  非洲舞 /  嗎 /  最近 /  才 /  聽說 /  過 /  聽說 /  很累 /  請問 /  跳過 /  的 /  人 /  它 /  有 /  比 /  BODYCOMBAT /  累 /  嗎 /  有趣 /  嗎 /  謝謝 /  您 /  的 /  回答 /  非洲舞 /  超超 /  超 /  有趣 /  B /  其實 /  在 /  BODYJAM /  裡 /  有時 /  就 /  會 /  夾雜 /  非洲舞 /  大概 /  看到 /  拼命 /  甩頭 /  手部 /  動作 /  很 /  大 /  跳起來 /  汗會 /  甩到 /  別人 /  臉上 /  的 /  呃 /  大概 /  就是 /  非洲舞 /  了 /  P /  跟 /  COMBAT /  比起來 /  我 /  自己 /  的 /  感覺 /  是 /  非洲舞 /  更累 /  尤其 /  是 /  運動 /  到 /  很少 /  運動 /  的 /  頸部 /  如果 /  一整堂 /  都 /  上 /  非洲 /  隔天 /  那個 /  酸痛 /  哪 /  阿娘 /  喂 /  記得 /  數個 /  月 /  之前 /  在 /  加州 /  的 /  課表 /  有 /  看過 /  這課 /  不過 /  應該 /  是 /  特別 /  活動 /  才 /  有 /  的 /  之後 /  就 /  再 /  也 /  不見 /  蹤跡 /  了 /  橘子 /  的 /  分解 /  過程 /  HTTPWWWWRETCHCCBLOGSUNKIST']"
      ]
     },
     "execution_count": 4,
     "metadata": {},
     "output_type": "execute_result"
    }
   ],
   "source": [
    "import jieba\n",
    "import jieba.analyse\n",
    "\n",
    "#使用繁體字預設字典\n",
    "jieba.set_dictionary('./dicts/dict.txt.big')\n",
    "\n",
    "new_corpus = []\n",
    "for test in tests:\n",
    "    try:\n",
    "        words = jieba.lcut(test)\n",
    "        new_corpus.append(' /  '.join(words))\n",
    "    except Exception as e:\n",
    "        print (e.__doc__) \n",
    "\n",
    "new_corpus"
   ]
  },
  {
   "cell_type": "code",
   "execution_count": 5,
   "metadata": {},
   "outputs": [
    {
     "name": "stderr",
     "output_type": "stream",
     "text": [
      "Building prefix dict from C:\\Users\\Java\\Desktop\\iii_project\\textmining\\dicts\\dict.txt.big ...\n",
      "Loading model from cache C:\\Users\\Java\\AppData\\Local\\Temp\\jieba.ub84c619647761bfd801d02144fa85f89.cache\n",
      "Loading model cost 0.519 seconds.\n",
      "Prefix dict has been built succesfully.\n"
     ]
    },
    {
     "data": {
      "text/plain": [
       "['我 /  七月 /  要 /  搬到 /  台北 /  臺大 /  醫學院 /  附近 /  會是 /  我 /  比較 /  長 /  活動 /  的 /  地區 /  因為 /  我 /  有 /  運動 /  的 /  習慣 /  不希望 /  間 /  段 /  但是 /  台北 /  的 /  健身房 /  我 /  實在 /  不熟 /  想 /  請 /  大家 /  推薦 /  一下 /  我 /  喜歡 /  的 /  課有 /  槓鈴 /  戰鬥有氧 /  還有 /  我 /  希望 /  可以 /  用到 /  跑步機 /  原則 /  上 /  我 /  會在 /  台北 /  待 /  一年 /  所以 /  希望 /  不要 /  是 /  簽約 /  超過 /  一年 /  的 /  健身房 /  希望 /  大家 /  可以 /  推薦 /  一下 /  有 /  這些 /  課程 /  的 /  健身房 /  謝謝',\n",
       " '拳擊 /  好像 /  比較少 /  訓練 /  到 /  大腿 /  的 /  大部份 /  都是 /  拳拳 /  拳 /  跟 /  心肺 /  的 /  鍛鍊 /  誠心 /  地 /  建議 /  你 /  好好地 /  跟 /  BLANCE /  還有 /  瑜珈 /  對 /  你 /  的 /  有氧 /  生涯 /  奠定 /  良好 /  的 /  基礎 /  如果 /  你 /  可以 /  好好地 /  控制 /  大腿 /  肌肉 /  讓 /  膝蓋 /  保持 /  微彎 /  其實 /  階梯 /  有氧 /  可以 /  有效 /  地 /  鍛鍊到 /  大腿 /  如果 /  怕轉 /  的 /  動作 /  太多 /  可以 /  先 /  從 /  入門 /  開始 /  最後 /  我 /  要拿 /  TINA /  老師 /  來當 /  例子 /  說明 /  TINA /  老師 /  教 /  階梯 /  教到 /  屁股 /  非常 /  小 /  可見 /  鍛鍊 /  的 /  效果 /  有 /  多 /  好 /  啊 /  TINA /  老師 /  這是 /  讚美 /  唷 /  如題 /  是 /  拳擊 /  有氧 /  嗎 /  謝謝 /  回答 /  TELNETPTTCC /  板名 /  CHINESEMED /  醫學 /  中醫藥 /  學術 /  討論 /  板 /  分組 /  討論區 /  國家 /  研究院 /  科學 /  學術 /  研究院 /  中醫藥 /  學術 /  討論 /  板 /  CHINESEMED /  也可以 /  直接 /  到 /  我 /  的 /  最愛 /  按 /  Y /  叫出 /  全部 /  看板 /  再 /  按 /  小寫 /  S /  輸入 /  CHINESEMED /  然後 /  再 /  按 /  M /  加入 /  我 /  的 /  最愛 /  Y',\n",
       " '請教 /  版上 /  先進 /  有人 /  跳過 /  非洲舞 /  嗎 /  最近 /  才 /  聽說 /  過 /  聽說 /  很累 /  請問 /  跳過 /  的 /  人 /  它 /  有 /  比 /  BODYCOMBAT /  累 /  嗎 /  有趣 /  嗎 /  謝謝 /  您 /  的 /  回答 /  非洲舞 /  超超 /  超 /  有趣 /  B /  其實 /  在 /  BODYJAM /  裡 /  有時 /  就會 /  夾雜 /  非洲舞 /  大概 /  看到 /  拼命 /  甩頭 /  手部 /  動作 /  很大 /  跳起來 /  汗會 /  甩到 /  別人 /  臉上 /  的 /  呃 /  大概 /  就是 /  非洲舞 /  了 /  P /  跟 /  COMBAT /  比起來 /  我 /  自己 /  的 /  感覺 /  是 /  非洲舞 /  更累 /  尤其是 /  運動 /  到 /  很少 /  運動 /  的 /  頸部 /  如果 /  一整堂 /  都 /  上 /  非洲 /  隔天 /  那個 /  酸痛 /  哪 /  阿娘 /  喂 /  記得 /  數個 /  月 /  之前 /  在 /  加州 /  的 /  課表 /  有 /  看過 /  這課 /  不過 /  應該是 /  特別 /  活動 /  才有 /  的 /  之後 /  就 /  再 /  也 /  不見 /  蹤跡 /  了 /  橘子 /  的 /  分解 /  過程 /  HTTPWWWWRETCHCCBLOGSUNKIST']"
      ]
     },
     "execution_count": 5,
     "metadata": {},
     "output_type": "execute_result"
    }
   ],
   "source": [
    "import jieba\n",
    "import jieba.analyse\n",
    "\n",
    "#使用繁體字字典和自建字典\n",
    "jieba.set_dictionary('./dicts/dict.txt.big')\n",
    "jieba.load_userdict('./dicts/my_dict.txt')\n",
    "jieba.load_userdict('./dicts/neg_word.txt')\n",
    "jieba.load_userdict('./dicts/pos_word.txt')\n",
    "jieba.load_userdict('./dicts/stopword_cn.txt')\n",
    "jieba.load_userdict('./dicts/EduMin.txt')\n",
    "jieba.load_userdict('./dicts/idioms.txt')\n",
    "# jieba.analyse.set_stop_words('./dicts/stopword_2.txt')\n",
    "\n",
    "new_corpus = []\n",
    "for test in tests:\n",
    "    try:\n",
    "        words = jieba.lcut(test)\n",
    "        new_corpus.append(' /  '.join(words))\n",
    "    except Exception as e:\n",
    "        print (e.__doc__) \n",
    "\n",
    "new_corpus"
   ]
  }
 ],
 "metadata": {
  "kernelspec": {
   "display_name": "Python 3",
   "language": "python",
   "name": "python3"
  },
  "language_info": {
   "codemirror_mode": {
    "name": "ipython",
    "version": 3
   },
   "file_extension": ".py",
   "mimetype": "text/x-python",
   "name": "python",
   "nbconvert_exporter": "python",
   "pygments_lexer": "ipython3",
   "version": "3.6.4"
  }
 },
 "nbformat": 4,
 "nbformat_minor": 2
}
